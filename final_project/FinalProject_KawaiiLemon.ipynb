{
 "cells": [
  {
   "cell_type": "markdown",
   "metadata": {},
   "source": [
    "# COGS 108 - Final Project "
   ]
  },
  {
   "cell_type": "markdown",
   "metadata": {},
   "source": [
    "# Overview"
   ]
  },
  {
   "cell_type": "markdown",
   "metadata": {},
   "source": [
    "This project is intended to find the relationship between expenditures and the given fund type that it is alloted to in the San Diego Parks and Recreation Budget. The data, and a linear regression, lead me to believe that there is a negative correlation between the different fund types and the expenditure amount. "
   ]
  },
  {
   "cell_type": "markdown",
   "metadata": {},
   "source": [
    "# Name & GitHub\n",
    "\n",
    "- Name: Brandon Giang\n",
    "- GitHub Username: KawaiiLemon"
   ]
  },
  {
   "cell_type": "markdown",
   "metadata": {},
   "source": [
    "# Research Question"
   ]
  },
  {
   "cell_type": "markdown",
   "metadata": {},
   "source": [
    "Is there a relationship between expenditures and fund types in the San Diego Parks and Recreation Budget?"
   ]
  },
  {
   "cell_type": "markdown",
   "metadata": {},
   "source": [
    "## Background and Prior Work"
   ]
  },
  {
   "cell_type": "markdown",
   "metadata": {},
   "source": [
    "The government divides their funds into many different subjects to keep their money organized. In this project we will only be looking at four of these specifically, the general, special revenue, capital project, and enterprise funds.\n",
    "\n",
    "The general fund is for money that is not associated with special purposes. The special revenue fund are for purposes that raise money for specific projects. Capital project funds are for building capital facilities. Lastly, enterprise funds are for supporting the government by selling goods and services to the public. \n",
    "\n",
    "These four funds are what make up the Parks and Recreation budget.\n",
    "\n",
    "References (include links):\n",
    "- 1) https://www.investopedia.com/terms/s/special-revenue-fund.asp\n",
    "- 2) https://www.lawinsider.com/dictionary/capital-projects-fund\n",
    "- 3) https://www.accountingtools.com/articles/2017/5/9/general-fund\n",
    "- 4) https://www.accountingtools.com/articles/2017/5/6/enterprise-fund"
   ]
  },
  {
   "cell_type": "markdown",
   "metadata": {},
   "source": [
    "# Hypothesis\n"
   ]
  },
  {
   "cell_type": "markdown",
   "metadata": {},
   "source": [
    "I hypothesize that there is a relationship between the different fund types and their expenditures. Capital facilities can be very expensive in their building and land costs. General funds can be expensive, however, I believe that, in general, the funds can reach very small numbers for menial purchases. The same can be said about the other two funds, as I am sure that marketing and services could very well have their own price ranges. "
   ]
  },
  {
   "cell_type": "markdown",
   "metadata": {},
   "source": [
    "# Dataset(s)"
   ]
  },
  {
   "cell_type": "markdown",
   "metadata": {},
   "source": [
    "- Dataset Name: San Diego Budget Data\n",
    "- Link to the dataset: https://data.sandiego.gov/datasets/operating-actuals/\n",
    "- Number of observations: 454,891\n",
    "\n",
    "This dataset displays information regarding funds of San Diego county, specifically what funds are distributed and collected for specific departments and fund types. Other information includes fund center indentifier numbers and the function of the funds."
   ]
  },
  {
   "cell_type": "markdown",
   "metadata": {},
   "source": [
    "# Setup"
   ]
  },
  {
   "cell_type": "code",
   "execution_count": 1,
   "metadata": {},
   "outputs": [],
   "source": [
    "import pandas as pd\n",
    "import numpy as np\n",
    "import seaborn as sns\n",
    "\n",
    "import patsy\n",
    "import statsmodels.api as sm\n",
    "import scipy.stats as stats\n",
    "from scipy.stats import ttest_ind, chisquare, normaltest\n",
    "\n",
    "import matplotlib.pyplot as plt\n",
    "\n",
    "\n",
    "df = pd.read_csv('../data/actuals_operating_datasd.csv')"
   ]
  },
  {
   "cell_type": "markdown",
   "metadata": {},
   "source": [
    "# Data Cleaning"
   ]
  },
  {
   "cell_type": "markdown",
   "metadata": {},
   "source": [
    "Let's look at all the departments in the San Diego budget data."
   ]
  },
  {
   "cell_type": "code",
   "execution_count": 2,
   "metadata": {},
   "outputs": [
    {
     "data": {
      "text/plain": [
       "array(['Office of the Chief Operating Officer', 'Council District 1',\n",
       "       'Council District 2', 'Council District 3', 'Council District 4',\n",
       "       'Council District 5', 'Council District 6', 'Council District 7',\n",
       "       'Council District 8', 'Council District 9',\n",
       "       'Council Administration', 'City Clerk',\n",
       "       'Independent Budget Analyst', 'City Attorney', 'Personnel',\n",
       "       'Ethics Commission', 'Office of the City Auditor',\n",
       "       'Assistant Chief Operating Officer', 'Performance & Analytics',\n",
       "       'Human Resources', 'Department of Information Technology',\n",
       "       'Economic Development', 'Internal Operations',\n",
       "       'Office of the Mayor', 'Communications', 'Chief Financial Officer',\n",
       "       'City Comptroller', 'Debt Management', 'Financial Management',\n",
       "       'Purchasing & Contracting', 'City Treasurer',\n",
       "       'Smart & Sustainable Communities', 'Development Services',\n",
       "       'Real Estate Assets', 'Planning', 'Library', 'Parks & Recreation',\n",
       "       'Fire-Rescue', 'Police', 'Office of Homeland Security',\n",
       "       'Public Utilities', 'Infrastructure/Public Works',\n",
       "       'Facilities Services', 'Environmental Services', 'Transportation',\n",
       "       'Public Works - Contracts', 'Major Revenues', 'Citywide Expenses',\n",
       "       'Public Facilities Planning', 'Cultural Affairs',\n",
       "       'Citywide Other/Special Funds',\n",
       "       'City Planning & Community Investments', 'Stadium Operations',\n",
       "       'Special Events & Filming', 'Special Promotional Programs',\n",
       "       'PETCO Park', 'Emergency Medical Services',\n",
       "       'Concourse & Parking Garage', 'Airports', 'Fleet Operations',\n",
       "       'Risk Management', 'Engineering & Capital Projects',\n",
       "       'Citywide Administration', 'Civic & Urban Initiatives', 'Water',\n",
       "       'Storm Water', 'Metropolitan Wastewater Muni',\n",
       "       'Metropolitan Wastewater Metro', 'Redevelopment',\n",
       "       'RDA - City Heights', 'RDA - North Bay',\n",
       "       'Enterprise Resource Planning', 'RDA - Centre City',\n",
       "       'RDA - Horton Plaza', 'RDA - College Grove', 'RDA - Barrio Logan',\n",
       "       'RDA - Naval Training Center', 'RDA - Linda Vista',\n",
       "       'RDA - San Ysidro', 'RDA - Central Imperial', 'RDA - Crossroads',\n",
       "       'Legacy Postings', 'HUD Programs Administration',\n",
       "       'Office of Boards & Commissions', 'Government Affairs',\n",
       "       'Department of Finance', 'Neighborhood Services', 'Sustainability',\n",
       "       'Redevelopment Agency'], dtype=object)"
      ]
     },
     "execution_count": 2,
     "metadata": {},
     "output_type": "execute_result"
    }
   ],
   "source": [
    "df['dept_name'].unique()"
   ]
  },
  {
   "cell_type": "markdown",
   "metadata": {},
   "source": [
    "Here, we only need the financial information for the Parks and Recreation Department, so modifying as necessary, we have budget information only pertaining to Parks and Recreation."
   ]
  },
  {
   "cell_type": "code",
   "execution_count": 3,
   "metadata": {},
   "outputs": [
    {
     "data": {
      "text/html": [
       "<div>\n",
       "<style scoped>\n",
       "    .dataframe tbody tr th:only-of-type {\n",
       "        vertical-align: middle;\n",
       "    }\n",
       "\n",
       "    .dataframe tbody tr th {\n",
       "        vertical-align: top;\n",
       "    }\n",
       "\n",
       "    .dataframe thead th {\n",
       "        text-align: right;\n",
       "    }\n",
       "</style>\n",
       "<table border=\"1\" class=\"dataframe\">\n",
       "  <thead>\n",
       "    <tr style=\"text-align: right;\">\n",
       "      <th></th>\n",
       "      <th>amount</th>\n",
       "      <th>report_fy</th>\n",
       "      <th>fund_type</th>\n",
       "      <th>fund_number</th>\n",
       "      <th>dept_name</th>\n",
       "      <th>funds_center_number</th>\n",
       "      <th>account</th>\n",
       "      <th>account_number</th>\n",
       "    </tr>\n",
       "  </thead>\n",
       "  <tbody>\n",
       "    <tr>\n",
       "      <th>8111</th>\n",
       "      <td>75.52</td>\n",
       "      <td>17</td>\n",
       "      <td>General Fund</td>\n",
       "      <td>100000</td>\n",
       "      <td>Parks &amp; Recreation</td>\n",
       "      <td>1714110001</td>\n",
       "      <td>Graffitti Control Restitution</td>\n",
       "      <td>417024</td>\n",
       "    </tr>\n",
       "    <tr>\n",
       "      <th>8112</th>\n",
       "      <td>156.84</td>\n",
       "      <td>17</td>\n",
       "      <td>General Fund</td>\n",
       "      <td>100000</td>\n",
       "      <td>Parks &amp; Recreation</td>\n",
       "      <td>1714110001</td>\n",
       "      <td>Repair Damages Recovered</td>\n",
       "      <td>423106</td>\n",
       "    </tr>\n",
       "    <tr>\n",
       "      <th>8113</th>\n",
       "      <td>-6478.12</td>\n",
       "      <td>17</td>\n",
       "      <td>General Fund</td>\n",
       "      <td>100000</td>\n",
       "      <td>Parks &amp; Recreation</td>\n",
       "      <td>1714110001</td>\n",
       "      <td>Salaried Wages</td>\n",
       "      <td>500011</td>\n",
       "    </tr>\n",
       "    <tr>\n",
       "      <th>8114</th>\n",
       "      <td>-188.86</td>\n",
       "      <td>17</td>\n",
       "      <td>General Fund</td>\n",
       "      <td>100000</td>\n",
       "      <td>Parks &amp; Recreation</td>\n",
       "      <td>1714110001</td>\n",
       "      <td>Supp Pens Sav Plan Mandatory</td>\n",
       "      <td>502021</td>\n",
       "    </tr>\n",
       "    <tr>\n",
       "      <th>8115</th>\n",
       "      <td>-181.19</td>\n",
       "      <td>17</td>\n",
       "      <td>General Fund</td>\n",
       "      <td>100000</td>\n",
       "      <td>Parks &amp; Recreation</td>\n",
       "      <td>1714110001</td>\n",
       "      <td>Supp Pens Sav Plan Voluntary</td>\n",
       "      <td>502022</td>\n",
       "    </tr>\n",
       "  </tbody>\n",
       "</table>\n",
       "</div>"
      ],
      "text/plain": [
       "       amount  report_fy     fund_type  fund_number           dept_name  \\\n",
       "8111    75.52         17  General Fund       100000  Parks & Recreation   \n",
       "8112   156.84         17  General Fund       100000  Parks & Recreation   \n",
       "8113 -6478.12         17  General Fund       100000  Parks & Recreation   \n",
       "8114  -188.86         17  General Fund       100000  Parks & Recreation   \n",
       "8115  -181.19         17  General Fund       100000  Parks & Recreation   \n",
       "\n",
       "      funds_center_number                        account  account_number  \n",
       "8111           1714110001  Graffitti Control Restitution          417024  \n",
       "8112           1714110001       Repair Damages Recovered          423106  \n",
       "8113           1714110001                 Salaried Wages          500011  \n",
       "8114           1714110001   Supp Pens Sav Plan Mandatory          502021  \n",
       "8115           1714110001   Supp Pens Sav Plan Voluntary          502022  "
      ]
     },
     "execution_count": 3,
     "metadata": {},
     "output_type": "execute_result"
    }
   ],
   "source": [
    "df_parks = df[df['dept_name'] == 'Parks & Recreation']\n",
    "\n",
    "df_parks.head()"
   ]
  },
  {
   "cell_type": "markdown",
   "metadata": {},
   "source": [
    "Next, we only care about the expenditures, so we remove all positive numbers from the amount column since positive indicates we gain money for the budget. We also look at if there are any null values that can possibly disrupt the process and remove them."
   ]
  },
  {
   "cell_type": "code",
   "execution_count": 4,
   "metadata": {},
   "outputs": [
    {
     "name": "stdout",
     "output_type": "stream",
     "text": [
      "amount                 0\n",
      "report_fy              0\n",
      "fund_type              0\n",
      "fund_number            0\n",
      "dept_name              0\n",
      "funds_center_number    0\n",
      "account                0\n",
      "account_number         0\n",
      "dtype: int64\n"
     ]
    },
    {
     "data": {
      "text/html": [
       "<div>\n",
       "<style scoped>\n",
       "    .dataframe tbody tr th:only-of-type {\n",
       "        vertical-align: middle;\n",
       "    }\n",
       "\n",
       "    .dataframe tbody tr th {\n",
       "        vertical-align: top;\n",
       "    }\n",
       "\n",
       "    .dataframe thead th {\n",
       "        text-align: right;\n",
       "    }\n",
       "</style>\n",
       "<table border=\"1\" class=\"dataframe\">\n",
       "  <thead>\n",
       "    <tr style=\"text-align: right;\">\n",
       "      <th></th>\n",
       "      <th>amount</th>\n",
       "      <th>report_fy</th>\n",
       "      <th>fund_type</th>\n",
       "      <th>fund_number</th>\n",
       "      <th>dept_name</th>\n",
       "      <th>funds_center_number</th>\n",
       "      <th>account</th>\n",
       "      <th>account_number</th>\n",
       "    </tr>\n",
       "  </thead>\n",
       "  <tbody>\n",
       "    <tr>\n",
       "      <th>8113</th>\n",
       "      <td>-6478.12</td>\n",
       "      <td>17</td>\n",
       "      <td>General Fund</td>\n",
       "      <td>100000</td>\n",
       "      <td>Parks &amp; Recreation</td>\n",
       "      <td>1714110001</td>\n",
       "      <td>Salaried Wages</td>\n",
       "      <td>500011</td>\n",
       "    </tr>\n",
       "    <tr>\n",
       "      <th>8114</th>\n",
       "      <td>-188.86</td>\n",
       "      <td>17</td>\n",
       "      <td>General Fund</td>\n",
       "      <td>100000</td>\n",
       "      <td>Parks &amp; Recreation</td>\n",
       "      <td>1714110001</td>\n",
       "      <td>Supp Pens Sav Plan Mandatory</td>\n",
       "      <td>502021</td>\n",
       "    </tr>\n",
       "    <tr>\n",
       "      <th>8115</th>\n",
       "      <td>-181.19</td>\n",
       "      <td>17</td>\n",
       "      <td>General Fund</td>\n",
       "      <td>100000</td>\n",
       "      <td>Parks &amp; Recreation</td>\n",
       "      <td>1714110001</td>\n",
       "      <td>Supp Pens Sav Plan Voluntary</td>\n",
       "      <td>502022</td>\n",
       "    </tr>\n",
       "    <tr>\n",
       "      <th>8116</th>\n",
       "      <td>-48.37</td>\n",
       "      <td>17</td>\n",
       "      <td>General Fund</td>\n",
       "      <td>100000</td>\n",
       "      <td>Parks &amp; Recreation</td>\n",
       "      <td>1714110001</td>\n",
       "      <td>Fica/Medicare Insurance</td>\n",
       "      <td>502051</td>\n",
       "    </tr>\n",
       "    <tr>\n",
       "      <th>8278</th>\n",
       "      <td>-6165.43</td>\n",
       "      <td>17</td>\n",
       "      <td>General Fund</td>\n",
       "      <td>100000</td>\n",
       "      <td>Parks &amp; Recreation</td>\n",
       "      <td>1714111111</td>\n",
       "      <td>P-Card Unallocated Expense (Comptroller Use Only)</td>\n",
       "      <td>516046</td>\n",
       "    </tr>\n",
       "  </tbody>\n",
       "</table>\n",
       "</div>"
      ],
      "text/plain": [
       "       amount  report_fy     fund_type  fund_number           dept_name  \\\n",
       "8113 -6478.12         17  General Fund       100000  Parks & Recreation   \n",
       "8114  -188.86         17  General Fund       100000  Parks & Recreation   \n",
       "8115  -181.19         17  General Fund       100000  Parks & Recreation   \n",
       "8116   -48.37         17  General Fund       100000  Parks & Recreation   \n",
       "8278 -6165.43         17  General Fund       100000  Parks & Recreation   \n",
       "\n",
       "      funds_center_number                                            account  \\\n",
       "8113           1714110001                                     Salaried Wages   \n",
       "8114           1714110001                       Supp Pens Sav Plan Mandatory   \n",
       "8115           1714110001                       Supp Pens Sav Plan Voluntary   \n",
       "8116           1714110001                            Fica/Medicare Insurance   \n",
       "8278           1714111111  P-Card Unallocated Expense (Comptroller Use Only)   \n",
       "\n",
       "      account_number  \n",
       "8113          500011  \n",
       "8114          502021  \n",
       "8115          502022  \n",
       "8116          502051  \n",
       "8278          516046  "
      ]
     },
     "execution_count": 4,
     "metadata": {},
     "output_type": "execute_result"
    }
   ],
   "source": [
    "df_parks = df_parks[df_parks['amount'] < 0]\n",
    "nan = df_parks.isna().sum()\n",
    "print(nan)\n",
    "\n",
    "df_parks.head()"
   ]
  },
  {
   "cell_type": "markdown",
   "metadata": {},
   "source": [
    "We also should get rid of some extra information not really useful to us, like the report_fy, funds_center_number, and other extraneous idenfier numbers."
   ]
  },
  {
   "cell_type": "code",
   "execution_count": 5,
   "metadata": {},
   "outputs": [
    {
     "data": {
      "text/html": [
       "<div>\n",
       "<style scoped>\n",
       "    .dataframe tbody tr th:only-of-type {\n",
       "        vertical-align: middle;\n",
       "    }\n",
       "\n",
       "    .dataframe tbody tr th {\n",
       "        vertical-align: top;\n",
       "    }\n",
       "\n",
       "    .dataframe thead th {\n",
       "        text-align: right;\n",
       "    }\n",
       "</style>\n",
       "<table border=\"1\" class=\"dataframe\">\n",
       "  <thead>\n",
       "    <tr style=\"text-align: right;\">\n",
       "      <th></th>\n",
       "      <th>amount</th>\n",
       "      <th>fund_type</th>\n",
       "      <th>dept_name</th>\n",
       "      <th>account</th>\n",
       "    </tr>\n",
       "  </thead>\n",
       "  <tbody>\n",
       "    <tr>\n",
       "      <th>8113</th>\n",
       "      <td>-6478.12</td>\n",
       "      <td>General Fund</td>\n",
       "      <td>Parks &amp; Recreation</td>\n",
       "      <td>Salaried Wages</td>\n",
       "    </tr>\n",
       "    <tr>\n",
       "      <th>8114</th>\n",
       "      <td>-188.86</td>\n",
       "      <td>General Fund</td>\n",
       "      <td>Parks &amp; Recreation</td>\n",
       "      <td>Supp Pens Sav Plan Mandatory</td>\n",
       "    </tr>\n",
       "    <tr>\n",
       "      <th>8115</th>\n",
       "      <td>-181.19</td>\n",
       "      <td>General Fund</td>\n",
       "      <td>Parks &amp; Recreation</td>\n",
       "      <td>Supp Pens Sav Plan Voluntary</td>\n",
       "    </tr>\n",
       "    <tr>\n",
       "      <th>8116</th>\n",
       "      <td>-48.37</td>\n",
       "      <td>General Fund</td>\n",
       "      <td>Parks &amp; Recreation</td>\n",
       "      <td>Fica/Medicare Insurance</td>\n",
       "    </tr>\n",
       "    <tr>\n",
       "      <th>8278</th>\n",
       "      <td>-6165.43</td>\n",
       "      <td>General Fund</td>\n",
       "      <td>Parks &amp; Recreation</td>\n",
       "      <td>P-Card Unallocated Expense (Comptroller Use Only)</td>\n",
       "    </tr>\n",
       "  </tbody>\n",
       "</table>\n",
       "</div>"
      ],
      "text/plain": [
       "       amount     fund_type           dept_name  \\\n",
       "8113 -6478.12  General Fund  Parks & Recreation   \n",
       "8114  -188.86  General Fund  Parks & Recreation   \n",
       "8115  -181.19  General Fund  Parks & Recreation   \n",
       "8116   -48.37  General Fund  Parks & Recreation   \n",
       "8278 -6165.43  General Fund  Parks & Recreation   \n",
       "\n",
       "                                                account  \n",
       "8113                                     Salaried Wages  \n",
       "8114                       Supp Pens Sav Plan Mandatory  \n",
       "8115                       Supp Pens Sav Plan Voluntary  \n",
       "8116                            Fica/Medicare Insurance  \n",
       "8278  P-Card Unallocated Expense (Comptroller Use Only)  "
      ]
     },
     "execution_count": 5,
     "metadata": {},
     "output_type": "execute_result"
    }
   ],
   "source": [
    "df_parks = df_parks.drop(['report_fy', 'funds_center_number', 'account_number', 'fund_number'], axis=1)\n",
    "\n",
    "df_parks.head()"
   ]
  },
  {
   "cell_type": "markdown",
   "metadata": {},
   "source": [
    "Here, I don't consider this specific amount below an expenditure because of the account details, so I will be removing all rows with this account description."
   ]
  },
  {
   "cell_type": "code",
   "execution_count": 6,
   "metadata": {},
   "outputs": [
    {
     "data": {
      "text/html": [
       "<div>\n",
       "<style scoped>\n",
       "    .dataframe tbody tr th:only-of-type {\n",
       "        vertical-align: middle;\n",
       "    }\n",
       "\n",
       "    .dataframe tbody tr th {\n",
       "        vertical-align: top;\n",
       "    }\n",
       "\n",
       "    .dataframe thead th {\n",
       "        text-align: right;\n",
       "    }\n",
       "</style>\n",
       "<table border=\"1\" class=\"dataframe\">\n",
       "  <thead>\n",
       "    <tr style=\"text-align: right;\">\n",
       "      <th></th>\n",
       "      <th>amount</th>\n",
       "      <th>fund_type</th>\n",
       "      <th>dept_name</th>\n",
       "      <th>account</th>\n",
       "    </tr>\n",
       "  </thead>\n",
       "  <tbody>\n",
       "    <tr>\n",
       "      <th>106443</th>\n",
       "      <td>-203117.0</td>\n",
       "      <td>General Fund</td>\n",
       "      <td>Parks &amp; Recreation</td>\n",
       "      <td>Transfers To Other Funds</td>\n",
       "    </tr>\n",
       "  </tbody>\n",
       "</table>\n",
       "</div>"
      ],
      "text/plain": [
       "          amount     fund_type           dept_name                   account\n",
       "106443 -203117.0  General Fund  Parks & Recreation  Transfers To Other Funds"
      ]
     },
     "execution_count": 6,
     "metadata": {},
     "output_type": "execute_result"
    }
   ],
   "source": [
    "df_acc = df_parks[df_parks['account'] == 'Transfers To Other Funds']\n",
    "\n",
    "df_acc.head()"
   ]
  },
  {
   "cell_type": "code",
   "execution_count": 7,
   "metadata": {},
   "outputs": [
    {
     "data": {
      "text/html": [
       "<div>\n",
       "<style scoped>\n",
       "    .dataframe tbody tr th:only-of-type {\n",
       "        vertical-align: middle;\n",
       "    }\n",
       "\n",
       "    .dataframe tbody tr th {\n",
       "        vertical-align: top;\n",
       "    }\n",
       "\n",
       "    .dataframe thead th {\n",
       "        text-align: right;\n",
       "    }\n",
       "</style>\n",
       "<table border=\"1\" class=\"dataframe\">\n",
       "  <thead>\n",
       "    <tr style=\"text-align: right;\">\n",
       "      <th></th>\n",
       "      <th>amount</th>\n",
       "      <th>fund_type</th>\n",
       "      <th>dept_name</th>\n",
       "      <th>account</th>\n",
       "    </tr>\n",
       "  </thead>\n",
       "  <tbody>\n",
       "  </tbody>\n",
       "</table>\n",
       "</div>"
      ],
      "text/plain": [
       "Empty DataFrame\n",
       "Columns: [amount, fund_type, dept_name, account]\n",
       "Index: []"
      ]
     },
     "execution_count": 7,
     "metadata": {},
     "output_type": "execute_result"
    }
   ],
   "source": [
    "df_parks = df_parks.drop(106443, axis=0)\n",
    "\n",
    "df_acc = df_parks[df_parks['account'] == 'Transfers To Other Funds']\n",
    "\n",
    "df_acc.head()"
   ]
  },
  {
   "cell_type": "markdown",
   "metadata": {},
   "source": [
    "Lastly, we want to change amount to positive numbers as they are easier to look at on a graph and we know that all these current amounts are expenditures."
   ]
  },
  {
   "cell_type": "code",
   "execution_count": 8,
   "metadata": {},
   "outputs": [
    {
     "data": {
      "text/html": [
       "<div>\n",
       "<style scoped>\n",
       "    .dataframe tbody tr th:only-of-type {\n",
       "        vertical-align: middle;\n",
       "    }\n",
       "\n",
       "    .dataframe tbody tr th {\n",
       "        vertical-align: top;\n",
       "    }\n",
       "\n",
       "    .dataframe thead th {\n",
       "        text-align: right;\n",
       "    }\n",
       "</style>\n",
       "<table border=\"1\" class=\"dataframe\">\n",
       "  <thead>\n",
       "    <tr style=\"text-align: right;\">\n",
       "      <th></th>\n",
       "      <th>amount</th>\n",
       "      <th>fund_type</th>\n",
       "      <th>dept_name</th>\n",
       "      <th>account</th>\n",
       "    </tr>\n",
       "  </thead>\n",
       "  <tbody>\n",
       "    <tr>\n",
       "      <th>8113</th>\n",
       "      <td>6478.12</td>\n",
       "      <td>General Fund</td>\n",
       "      <td>Parks &amp; Recreation</td>\n",
       "      <td>Salaried Wages</td>\n",
       "    </tr>\n",
       "    <tr>\n",
       "      <th>8114</th>\n",
       "      <td>188.86</td>\n",
       "      <td>General Fund</td>\n",
       "      <td>Parks &amp; Recreation</td>\n",
       "      <td>Supp Pens Sav Plan Mandatory</td>\n",
       "    </tr>\n",
       "    <tr>\n",
       "      <th>8115</th>\n",
       "      <td>181.19</td>\n",
       "      <td>General Fund</td>\n",
       "      <td>Parks &amp; Recreation</td>\n",
       "      <td>Supp Pens Sav Plan Voluntary</td>\n",
       "    </tr>\n",
       "    <tr>\n",
       "      <th>8116</th>\n",
       "      <td>48.37</td>\n",
       "      <td>General Fund</td>\n",
       "      <td>Parks &amp; Recreation</td>\n",
       "      <td>Fica/Medicare Insurance</td>\n",
       "    </tr>\n",
       "    <tr>\n",
       "      <th>8278</th>\n",
       "      <td>6165.43</td>\n",
       "      <td>General Fund</td>\n",
       "      <td>Parks &amp; Recreation</td>\n",
       "      <td>P-Card Unallocated Expense (Comptroller Use Only)</td>\n",
       "    </tr>\n",
       "  </tbody>\n",
       "</table>\n",
       "</div>"
      ],
      "text/plain": [
       "       amount     fund_type           dept_name  \\\n",
       "8113  6478.12  General Fund  Parks & Recreation   \n",
       "8114   188.86  General Fund  Parks & Recreation   \n",
       "8115   181.19  General Fund  Parks & Recreation   \n",
       "8116    48.37  General Fund  Parks & Recreation   \n",
       "8278  6165.43  General Fund  Parks & Recreation   \n",
       "\n",
       "                                                account  \n",
       "8113                                     Salaried Wages  \n",
       "8114                       Supp Pens Sav Plan Mandatory  \n",
       "8115                       Supp Pens Sav Plan Voluntary  \n",
       "8116                            Fica/Medicare Insurance  \n",
       "8278  P-Card Unallocated Expense (Comptroller Use Only)  "
      ]
     },
     "execution_count": 8,
     "metadata": {},
     "output_type": "execute_result"
    }
   ],
   "source": [
    "df_parks['amount'] = df_parks['amount'] * -1\n",
    "\n",
    "df_parks.head()"
   ]
  },
  {
   "cell_type": "markdown",
   "metadata": {},
   "source": [
    "# Data Analysis & Results"
   ]
  },
  {
   "cell_type": "markdown",
   "metadata": {},
   "source": [
    "Here, we'll take account of what kinds of funds and how many we have of each."
   ]
  },
  {
   "cell_type": "code",
   "execution_count": 9,
   "metadata": {},
   "outputs": [
    {
     "data": {
      "text/plain": [
       "<matplotlib.axes._subplots.AxesSubplot at 0x216920175b0>"
      ]
     },
     "execution_count": 9,
     "metadata": {},
     "output_type": "execute_result"
    },
    {
     "data": {
      "image/png": "[encoded data removed]",
      "text/plain": [
       "<Figure size 432x288 with 1 Axes>"
      ]
     },
     "metadata": {
      "needs_background": "light"
     },
     "output_type": "display_data"
    }
   ],
   "source": [
    "sns.countplot(y='fund_type', data=df_parks)"
   ]
  },
  {
   "cell_type": "markdown",
   "metadata": {},
   "source": [
    "Figure 1: Looks like there is a massive difference in the amount of funds from one to another (doubling from bottom to top)."
   ]
  },
  {
   "cell_type": "code",
   "execution_count": 10,
   "metadata": {},
   "outputs": [
    {
     "name": "stderr",
     "output_type": "stream",
     "text": [
      "<ipython-input-10-3c229e0551c0>:1: UserWarning: Boolean Series key will be reindexed to match DataFrame index.\n",
      "  sns.distplot(df_parks[df['fund_type'] == 'General Fund']['amount'], kde=False)\n"
     ]
    },
    {
     "data": {
      "text/plain": [
       "<matplotlib.axes._subplots.AxesSubplot at 0x2169274bca0>"
      ]
     },
     "execution_count": 10,
     "metadata": {},
     "output_type": "execute_result"
    },
    {
     "data": {
      "image/png": "[encoded data removed]",
      "text/plain": [
       "<Figure size 432x288 with 1 Axes>"
      ]
     },
     "metadata": {
      "needs_background": "light"
     },
     "output_type": "display_data"
    }
   ],
   "source": [
    "sns.distplot(df_parks[df['fund_type'] == 'General Fund']['amount'], kde=False)"
   ]
  },
  {
   "cell_type": "markdown",
   "metadata": {},
   "source": [
    "Figure 2: Many of the general fund expenditures have small values, but has a massive range."
   ]
  },
  {
   "cell_type": "code",
   "execution_count": 11,
   "metadata": {},
   "outputs": [
    {
     "name": "stderr",
     "output_type": "stream",
     "text": [
      "<ipython-input-11-c5106cd0faa7>:1: UserWarning: Boolean Series key will be reindexed to match DataFrame index.\n",
      "  sns.distplot(df_parks[df['fund_type'] == 'Special Revenue Funds']['amount'], kde=False)\n"
     ]
    },
    {
     "data": {
      "text/plain": [
       "<matplotlib.axes._subplots.AxesSubplot at 0x2169287b850>"
      ]
     },
     "execution_count": 11,
     "metadata": {},
     "output_type": "execute_result"
    },
    {
     "data": {
      "image/png": "[encoded data removed]",
      "text/plain": [
       "<Figure size 432x288 with 1 Axes>"
      ]
     },
     "metadata": {
      "needs_background": "light"
     },
     "output_type": "display_data"
    }
   ],
   "source": [
    "sns.distplot(df_parks[df['fund_type'] == 'Special Revenue Funds']['amount'], kde=False)"
   ]
  },
  {
   "cell_type": "markdown",
   "metadata": {},
   "source": [
    "Figure 3: The special revenue expenditures has less range than the general."
   ]
  },
  {
   "cell_type": "code",
   "execution_count": 12,
   "metadata": {},
   "outputs": [
    {
     "name": "stderr",
     "output_type": "stream",
     "text": [
      "<ipython-input-12-fa1c3fcc8f34>:1: UserWarning: Boolean Series key will be reindexed to match DataFrame index.\n",
      "  sns.distplot(df_parks[df['fund_type'] == 'Enterprise Funds']['amount'], kde=False)\n"
     ]
    },
    {
     "data": {
      "text/plain": [
       "<matplotlib.axes._subplots.AxesSubplot at 0x2169296bd60>"
      ]
     },
     "execution_count": 12,
     "metadata": {},
     "output_type": "execute_result"
    },
    {
     "data": {
      "image/png": "[encoded data removed]",
      "text/plain": [
       "<Figure size 432x288 with 1 Axes>"
      ]
     },
     "metadata": {
      "needs_background": "light"
     },
     "output_type": "display_data"
    }
   ],
   "source": [
    "sns.distplot(df_parks[df['fund_type'] == 'Enterprise Funds']['amount'], kde=False)"
   ]
  },
  {
   "cell_type": "markdown",
   "metadata": {},
   "source": [
    "Figure 4: The Enterprise funds seem to have similaar results as the special revenue, but there are less values to consider."
   ]
  },
  {
   "cell_type": "code",
   "execution_count": 13,
   "metadata": {},
   "outputs": [
    {
     "name": "stderr",
     "output_type": "stream",
     "text": [
      "<ipython-input-13-008613155728>:1: UserWarning: Boolean Series key will be reindexed to match DataFrame index.\n",
      "  sns.distplot(df_parks[df['fund_type'] == 'Capital Project Funds']['amount'], kde=False)\n"
     ]
    },
    {
     "data": {
      "text/plain": [
       "<matplotlib.axes._subplots.AxesSubplot at 0x21692a0f1f0>"
      ]
     },
     "execution_count": 13,
     "metadata": {},
     "output_type": "execute_result"
    },
    {
     "data": {
      "image/png": "[encoded data removed]",
      "text/plain": [
       "<Figure size 432x288 with 1 Axes>"
      ]
     },
     "metadata": {
      "needs_background": "light"
     },
     "output_type": "display_data"
    }
   ],
   "source": [
    "sns.distplot(df_parks[df['fund_type'] == 'Capital Project Funds']['amount'], kde=False)"
   ]
  },
  {
   "cell_type": "markdown",
   "metadata": {},
   "source": [
    "Figure 5: There are only three captial project fund expenditures, so it is hard to get any association or prediction of correlation."
   ]
  },
  {
   "cell_type": "code",
   "execution_count": 14,
   "metadata": {},
   "outputs": [],
   "source": [
    "# In order to use boxcox transformation, must turn h_g, etc. into ndarrays then run the commented code, but I refrained\n",
    "# from using boxcox because I does not seem like it will at all help my interpretation if I make the data look like a \n",
    "# normal distribution.\n",
    "\n",
    "h_g = df_parks[df_parks['fund_type'] == 'General Fund']['amount'].values\n",
    "h_sr = df_parks[df_parks['fund_type'] == 'Special Revenue Funds']['amount'].values\n",
    "h_e = df_parks[df_parks['fund_type'] == 'Enterprise Funds']['amount'].values\n",
    "\n",
    "#h_g = stats.boxcox(h_g)\n",
    "#h_sr = stats.boxcox(h_sr)\n",
    "#h_e = stats.boxcox(h_e)\n",
    "\n",
    "#h_g = np.take(h_g, 0)\n",
    "#h_sr = np.take(h_sr, 0)\n",
    "#h_e = np.take(h_e, 0)\n",
    "\n",
    "#g = pd.Series(h_g)\n",
    "#sr = pd.Series(h_sr)\n",
    "#e = pd.Series(h_e)"
   ]
  },
  {
   "cell_type": "code",
   "execution_count": 15,
   "metadata": {},
   "outputs": [
    {
     "name": "stdout",
     "output_type": "stream",
     "text": [
      "3.11023761638101e-253\n",
      "2.6590830108353187e-73\n",
      "2.5648072075949475e-24\n"
     ]
    }
   ],
   "source": [
    "p_g = normaltest(h_g).pvalue\n",
    "p_sr = normaltest(h_sr).pvalue\n",
    "p_e = normaltest(h_e).pvalue\n",
    "\n",
    "print(p_g)\n",
    "print(p_sr)\n",
    "print(p_e)"
   ]
  },
  {
   "cell_type": "markdown",
   "metadata": {},
   "source": [
    "These values are far than a normal distribution. There is the option to transform it to normal using box cox (other methods like using log would not work), but it would ultimately change the data and would make it haard to analyze."
   ]
  },
  {
   "cell_type": "code",
   "execution_count": 16,
   "metadata": {},
   "outputs": [
    {
     "name": "stdout",
     "output_type": "stream",
     "text": [
      "                            OLS Regression Results                            \n",
      "==============================================================================\n",
      "Dep. Variable:                 amount   R-squared:                       0.422\n",
      "Model:                            OLS   Adj. R-squared:                  0.420\n",
      "Method:                 Least Squares   F-statistic:                     295.8\n",
      "Date:                Wed, 16 Dec 2020   Prob (F-statistic):          3.76e-144\n",
      "Time:                        13:08:25   Log-Likelihood:                -11717.\n",
      "No. Observations:                1220   AIC:                         2.344e+04\n",
      "Df Residuals:                    1216   BIC:                         2.346e+04\n",
      "Df Model:                           3                                         \n",
      "Covariance Type:            nonrobust                                         \n",
      "======================================================================================================\n",
      "                                         coef    std err          t      P>|t|      [0.025      0.975]\n",
      "------------------------------------------------------------------------------------------------------\n",
      "Intercept                           6.269e+04   2075.281     30.210      0.000    5.86e+04    6.68e+04\n",
      "fund_type[T.Enterprise Funds]      -6.186e+04   2105.000    -29.388      0.000    -6.6e+04   -5.77e+04\n",
      "fund_type[T.General Fund]          -6.158e+04   2079.330    -29.616      0.000   -6.57e+04   -5.75e+04\n",
      "fund_type[T.Special Revenue Funds] -6.206e+04   2084.284    -29.776      0.000   -6.61e+04    -5.8e+04\n",
      "==============================================================================\n",
      "Omnibus:                     1918.451   Durbin-Watson:                   1.949\n",
      "Prob(Omnibus):                  0.000   Jarque-Bera (JB):           837628.264\n",
      "Skew:                           9.631   Prob(JB):                         0.00\n",
      "Kurtosis:                     129.913   Cond. No.                         49.7\n",
      "==============================================================================\n",
      "\n",
      "Warnings:\n",
      "[1] Standard Errors assume that the covariance matrix of the errors is correctly specified.\n"
     ]
    }
   ],
   "source": [
    "outcome_1, predictors_1 = patsy.dmatrices('amount ~ fund_type', df_parks)\n",
    "mod_1 = sm.OLS(outcome_1, predictors_1)\n",
    "res_1 = mod_1.fit()\n",
    "\n",
    "print(res_1.summary())"
   ]
  },
  {
   "cell_type": "markdown",
   "metadata": {},
   "source": [
    "Figure 6: Here, it looks like there is some sort of negative correlation of fund_type to the amount spent. However, the data is not normally distributed (as assumed), so this data is potentially interpretted incorrectly. Additionally, there is large large standard error, so it may be hard to pinpoint if this regression is completely accurate."
   ]
  },
  {
   "cell_type": "markdown",
   "metadata": {},
   "source": [
    "# Ethics & Privacy"
   ]
  },
  {
   "cell_type": "markdown",
   "metadata": {},
   "source": [
    "This is public government budget data and a dataset given to me, so I have been given permission to use this dataset for my analytic purposes. There is a chance that I may overlook aspects of this data because I have ignored parts of this dataset.\n",
    "\n",
    "This data could be misinterpreted in where the parks should cut their expenses. While it seems that there is a correlation, there is a lot more data pertaining to certain funds. The general fund has way more data compared to the other funds. \n",
    "\n",
    "Additionally, the captial projects fund only has three expenditures. There are not enough of these to analyze fully."
   ]
  },
  {
   "cell_type": "markdown",
   "metadata": {},
   "source": [
    "# Conclusion & Discussion"
   ]
  },
  {
   "cell_type": "markdown",
   "metadata": {},
   "source": [
    "This project was intended to find the relationship between the fund types and their expenditures. While it does seems like there is a negative correlation of different funds to expenditures, the data was not normally distributed and the standard error was large. There was a way for me to make the data normally distributed using hte boxcox transformation, but it would change the data to be misinterpreted greatly.\n",
    "\n",
    "Another limitation of this project was the limited dataset size. There was more than double data for the General Fund than all the other funds. Additionally, the capital projects fund only had about three expenditures, which did not allow for an accurate prediction. \n",
    "\n",
    "Overall, there seems to be a negative correlation of the data using a linear regression and may help with pinpointing where money is being drained from, however the correlation may not be all accurate as it uses a limited dataset and a most likely inaccurate regression."
   ]
  }
 ],
 "metadata": {
  "kernelspec": {
   "display_name": "Python 3",
   "language": "python",
   "name": "python3"
  },
  "language_info": {
   "codemirror_mode": {
    "name": "ipython",
    "version": 3
   },
   "file_extension": ".py",
   "mimetype": "text/x-python",
   "name": "python",
   "nbconvert_exporter": "python",
   "pygments_lexer": "ipython3",
   "version": "3.8.3"
  }
 },
 "nbformat": 4,
 "nbformat_minor": 2
}
