{
 "cells": [
  {
   "cell_type": "markdown",
   "metadata": {},
   "source": [
    "# COGS 108 - Project Proposal"
   ]
  },
  {
   "cell_type": "markdown",
   "metadata": {},
   "source": [
    "# Names & GitHub ID\n",
    "\n",
    "- Name: Aaron Oliver\n",
    "- GitHub Username: AaronAOliver"
   ]
  },
  {
   "cell_type": "markdown",
   "metadata": {},
   "source": [
    "# Research Question"
   ]
  },
  {
   "cell_type": "markdown",
   "metadata": {},
   "source": [
    "Is there a relationship between neighborhood obesity rates and the proximity of public parks to the various residential neighborhoods of San Diego?"
   ]
  },
  {
   "cell_type": "markdown",
   "metadata": {},
   "source": [
    "## Background and Prior Work"
   ]
  },
  {
   "cell_type": "markdown",
   "metadata": {},
   "source": [
    "Public parks are seen as the primary location for recreation and exercise in many cities. Our City has explored parks as a way to battle residential obesity through the San Diego County Childhood Obesity Initiative [1]. The inuitive claim is that park proximity to residents will lead to increased park use, since more people will be able to reach a park by bicycle or walking.\n",
    "\n",
    "Past research in the city of Yorkshire (UK) concluded that obesity rates were not directly connected to park location [2]. Differences between the United Kingdom, such as overall obesity rate [3], and public transportation usage [4] might contribute to a different relationship for neighborhoods in the US compared to those in the UK. This new study will determine if the trends previously found in other studies hold for San Diego, or if park proximity is a stronger predictor for obesity rate in San Diego compared to other locations.\n",
    "\n",
    "If the location of public parks is linked to lower obesity, then it is possible that constructing new public parks in strategic locations will improve health outcomes for residents of San Diego.\n",
    "\n",
    "References (include links):\n",
    "- 1) https://www.nrpa.org/contentassets/f768428a39aa4035ae55b2aaff372617/obesity.pdf\n",
    "- 2) https://www.ncbi.nlm.nih.gov/pmc/articles/PMC5769035/\n",
    "- 3) https://www.cia.gov/library/publications/the-world-factbook/rankorder/2228rank.html\n",
    "- 4) https://www.smartcitiesdive.com/ex/sustainablecitiescollective/natgeo-surveys-countries%E2%80%99-transit-use-guess-who-comes-last/9081/"
   ]
  },
  {
   "cell_type": "markdown",
   "metadata": {},
   "source": [
    "# Hypothesis\n"
   ]
  },
  {
   "cell_type": "markdown",
   "metadata": {},
   "source": [
    "I suspect that there will be a small relationship between public park proximity and obesity rate, but that correlation will be lower than previously reported in other studies and explorations. I think this is because the unique geography of San Diego, with nearby beaches, deserts, and mountains, will encourage residents to travel farther than their immediate neighborhood when considering which public parks to visit."
   ]
  },
  {
   "cell_type": "markdown",
   "metadata": {},
   "source": [
    "# Data"
   ]
  },
  {
   "cell_type": "markdown",
   "metadata": {},
   "source": [
    "\n",
    "The park location data would be collected by the City of San Diego from map data. Information about parks that would be useful would be longitude and latitude of each park for its location, date that the park first opened, and the neighborhood that park is considered to reside in. For this table, the observations would be each park in San Diego. This table should contain information for every park within city limits.\n",
    "\n",
    "Medical data would include columns for respondent ID, age, gender, height, weight, BMI, and neighborhood of residence. Each observation would consist of a single person. Each neighborhood would hopefully have at least a few hundred observations to make conclusions about obesity rates. In an ideal data set, every resident in San Diego would be included, but that is unrealistic and leaves no room for individual respodents to opt out of the study. The city can send data collectors door to door to gather this data.\n",
    "\n",
    "From the above table, we could computer have average age and BMI information for the residents of each neighborhood. This can be recalculated whenever someone choses to opt out of the dataset.\n",
    "\n",
    "The data would be best stored as a series of CSV files so they can be easily read into Python and modified using existing pandas tools."
   ]
  },
  {
   "cell_type": "markdown",
   "metadata": {},
   "source": [
    "# Ethics & Privacy"
   ]
  },
  {
   "cell_type": "markdown",
   "metadata": {},
   "source": [
    "The park location data can be collected by the City of San Diego, and will contain no personal information that need to be protected. This data would either be publically available, or specifically given to be by the City. Possible biases may exist where obesity rates are more closely related to factors other than park proximity, such as race or income, are ignored. The results from this study should recognize that we are not measuring the sole contribution to obesity.\n",
    "\n",
    "Each person's medical records will be marked by ID instead of name. Medical records will need to be collected specifically for the purpose of this study so all participants are fully imformed about the reason their data is being collected. Because consent must be revokable, individual medical information will have to be stored such any individual respondent can ask to remove their information from the dataset. This health data will be aggregated by residential neighborhood, so this data can be reported without disclosing any particular person's (or household's) medical data. Aggregate data will need to be recalculated whenever anyone chooses to remove themself from the dataset."
   ]
  }
 ],
 "metadata": {
  "kernelspec": {
   "display_name": "Python 3",
   "language": "python",
   "name": "python3"
  },
  "language_info": {
   "codemirror_mode": {
    "name": "ipython",
    "version": 3
   },
   "file_extension": ".py",
   "mimetype": "text/x-python",
   "name": "python",
   "nbconvert_exporter": "python",
   "pygments_lexer": "ipython3",
   "version": "3.8.3"
  }
 },
 "nbformat": 4,
 "nbformat_minor": 2
}
